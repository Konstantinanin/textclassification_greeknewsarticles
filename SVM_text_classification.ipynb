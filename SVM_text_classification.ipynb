{
 "cells": [
  {
   "cell_type": "markdown",
   "metadata": {},
   "source": [
    "### News articles classification using Support Vector Machines"
   ]
  },
  {
   "cell_type": "markdown",
   "metadata": {},
   "source": [
    "#### Libraries used"
   ]
  },
  {
   "cell_type": "code",
   "execution_count": 1,
   "metadata": {},
   "outputs": [],
   "source": [
    "import re\n",
    "import os\n",
    "\n",
    "from nltk.tokenize import word_tokenize\n",
    "import string\n",
    "import pandas as pd\n",
    "import numpy as np\n",
    "\n",
    "from sklearn.preprocessing import LabelEncoder\n",
    "from sklearn.feature_extraction.text import TfidfVectorizer\n",
    "\n",
    "from sklearn.model_selection import train_test_split\n",
    "from sklearn import svm\n",
    "from sklearn.metrics import confusion_matrix\n",
    "from sklearn.metrics import precision_recall_fscore_support as score\n",
    "import matplotlib.pyplot as plt\n",
    "from sklearn.metrics import plot_confusion_matrix"
   ]
  },
  {
   "cell_type": "markdown",
   "metadata": {},
   "source": [
    "#### Functions used"
   ]
  },
  {
   "cell_type": "code",
   "execution_count": 2,
   "metadata": {},
   "outputs": [],
   "source": [
    "def open_read_text(path):\n",
    "    '''Open and read text file\n",
    "    Input : path \n",
    "    Output: Contents of text file'''\n",
    "    with open(path, \"r\", encoding =\"utf8\") as f:\n",
    "        text = f.read()\n",
    "    return text"
   ]
  },
  {
   "cell_type": "code",
   "execution_count": 3,
   "metadata": {},
   "outputs": [],
   "source": [
    "def clean_text(text):\n",
    "    '''Tokenization, converting to lower case, remove punctuation, English characters\n",
    "    Input: the texts in the text files\n",
    "    Ouptut: A preprocessed text in a list'''\n",
    "    text = word_tokenize(text)\n",
    "    text = [w.lower() for w in text]\n",
    "    text = [w for w in text if w.isalpha()]\n",
    "    text = \" \".join([char for char in text if char not in string.punctuation])\n",
    "    text = re.sub(\"[a-z]+\", \"\", text)\n",
    "    return text"
   ]
  },
  {
   "cell_type": "code",
   "execution_count": 4,
   "metadata": {},
   "outputs": [],
   "source": [
    "def create_new_data(string):\n",
    "    '''Create and append cleaned text to txt file\n",
    "    Input : the text\n",
    "    Output: a text file in the chosen folder with the text'''\n",
    "    with open(path, \"w\", encoding = \"utf8\") as f:\n",
    "        str= f.write(string)\n",
    "        return str"
   ]
  },
  {
   "cell_type": "markdown",
   "metadata": {},
   "source": [
    "#### Text preprocessing"
   ]
  },
  {
   "cell_type": "code",
   "execution_count": 5,
   "metadata": {},
   "outputs": [],
   "source": [
    "# make a list of the paths in the right order\n",
    "path_list= []\n",
    "for i in range(0,30):\n",
    "    path_list.append((\"C:\\\\Users\\\\ntina\\\\Desktop\\\\stuff\\\\economic_txts\\\\economic\" + str(i) +\".txt\"))\n",
    "    #print(path_list)"
   ]
  },
  {
   "cell_type": "code",
   "execution_count": 6,
   "metadata": {},
   "outputs": [
    {
     "name": "stderr",
     "output_type": "stream",
     "text": [
      "IOPub data rate exceeded.\n",
      "The notebook server will temporarily stop sending output\n",
      "to the client in order to avoid crashing it.\n",
      "To change this limit, set the config variable\n",
      "`--NotebookApp.iopub_data_rate_limit`.\n",
      "\n",
      "Current values:\n",
      "NotebookApp.iopub_data_rate_limit=1000000.0 (bytes/sec)\n",
      "NotebookApp.rate_limit_window=3.0 (secs)\n",
      "\n"
     ]
    }
   ],
   "source": [
    "# open the text files and make a list of the texts\n",
    "textlist = []\n",
    "for i in path_list:\n",
    "    textlist.append(open_read_text(i))\n",
    "    print(textlist) "
   ]
  },
  {
   "cell_type": "code",
   "execution_count": 7,
   "metadata": {},
   "outputs": [],
   "source": [
    "# create a dataframe with the texts in each row\n",
    "df_economic = pd.DataFrame(textlist)\n",
    "df_economic.columns = [\"economic\"]\n",
    "df_economic = df_economic.sort_index()\n",
    "#print(df_economic)"
   ]
  },
  {
   "cell_type": "code",
   "execution_count": 8,
   "metadata": {},
   "outputs": [],
   "source": [
    "# use the clean_text function with the apply method in order to preprocess the rows with the texts of the df\n",
    "clean_df_economic = df_economic.economic.apply(clean_text)\n",
    "#print(clean_df_economic)"
   ]
  },
  {
   "cell_type": "code",
   "execution_count": 9,
   "metadata": {},
   "outputs": [],
   "source": [
    "# create 30 text files with the 30 preprocessed financial texts\n",
    "for i in range(0,30):\n",
    "    clean_df_economic.loc[i]\n",
    "    path = \"C:\\\\Users\\\\ntina\\\\Desktop\\\\stuff\\\\clean_econ\\\\clean_econ_txt\" + str(i) + '.txt'\n",
    "    create_new_data(clean_df_economic.loc[i])"
   ]
  },
  {
   "cell_type": "code",
   "execution_count": 10,
   "metadata": {},
   "outputs": [],
   "source": [
    "#make a list of the paths for the politics texts\n",
    "path_list_politics = []\n",
    "for i in range(30,69):\n",
    "    path_list_politics.append((\"C:\\\\Users\\\\ntina\\\\Desktop\\\\stuff\\\\politics_txts\\\\politics\" + str(i) +\".txt\"))\n",
    "    #print(path_list_politics)"
   ]
  },
  {
   "cell_type": "code",
   "execution_count": 11,
   "metadata": {},
   "outputs": [],
   "source": [
    "# open the text files and make a list of the texts\n",
    "text_list_politics = []\n",
    "for i in path_list_politics:\n",
    "    text_list_politics.append(open_read_text(i))"
   ]
  },
  {
   "cell_type": "code",
   "execution_count": 12,
   "metadata": {},
   "outputs": [],
   "source": [
    "# create dataframe with the texts\n",
    "df_politics = pd.DataFrame(text_list_politics)\n",
    "df_politics.columns = [\"politics\"]\n",
    "df_politics.index = pd.RangeIndex(start=30, stop=69, step=1)\n",
    "#print(df_politics)"
   ]
  },
  {
   "cell_type": "code",
   "execution_count": 13,
   "metadata": {},
   "outputs": [],
   "source": [
    "#apply the function for text cleaning\n",
    "clean_df_politics = df_politics.politics.apply(clean_text)\n",
    "#print(clean_df_politics)"
   ]
  },
  {
   "cell_type": "code",
   "execution_count": 14,
   "metadata": {},
   "outputs": [],
   "source": [
    "#create new text files with the preprocessed texts\n",
    "for k in range(30,69):\n",
    "    clean_df_politics.loc[k]\n",
    "    path = \"C:\\\\Users\\\\ntina\\\\Desktop\\\\stuff\\\\clean_politics\\\\clean_politics_txt\"+ str(k) + \".txt\"\n",
    "    create_new_data(clean_df_politics.loc[k])"
   ]
  },
  {
   "cell_type": "code",
   "execution_count": 15,
   "metadata": {},
   "outputs": [],
   "source": [
    "#makes a list with the paths in the right order\n",
    "path_list_sports = []\n",
    "for l in range(69,90):\n",
    "    path_list_sports.append((\"C:\\\\Users\\\\ntina\\\\Desktop\\\\stuff\\\\sports_txts\\\\sports\" + str(l) +\".txt\"))\n",
    "    #print(path_list_sports)"
   ]
  },
  {
   "cell_type": "code",
   "execution_count": 16,
   "metadata": {},
   "outputs": [],
   "source": [
    "# open the text files and make a list of the texts\n",
    "text_list_sports = []\n",
    "for m in path_list_sports:\n",
    "    text_list_sports.append(open_read_text(m))\n",
    "#print(text_list_sports)"
   ]
  },
  {
   "cell_type": "code",
   "execution_count": 17,
   "metadata": {},
   "outputs": [],
   "source": [
    "# make a dataframe with the right indexes for the text\n",
    "df_sports = pd.DataFrame(text_list_sports)\n",
    "df_sports.columns = [\"sports\"]\n",
    "df_sports.index = pd.RangeIndex(start=69, stop=90, step=1)\n",
    "#print(df_sports)"
   ]
  },
  {
   "cell_type": "code",
   "execution_count": 18,
   "metadata": {},
   "outputs": [],
   "source": [
    "# apply the function clean_text to preprocess all the politics texts\n",
    "clean_df_sports = df_sports.sports.apply(clean_text)\n",
    "#print(clean_df_sports)"
   ]
  },
  {
   "cell_type": "code",
   "execution_count": 19,
   "metadata": {},
   "outputs": [],
   "source": [
    "# create new text files with the preprocessed texts\n",
    "for n in range(69,90):\n",
    "    clean_df_sports.loc[n]\n",
    "    path = \"C:\\\\Users\\\\ntina\\\\Desktop\\\\stuff\\\\clean_sports\\\\clean_sports_txt\" + str(n) + \".txt\"\n",
    "    create_new_data(clean_df_sports.loc[n])"
   ]
  },
  {
   "cell_type": "code",
   "execution_count": 20,
   "metadata": {},
   "outputs": [],
   "source": [
    "#concatenate all thre data frames to one\n",
    "cleaned_df_texts =pd.concat([clean_df_economic, clean_df_politics, clean_df_sports])\n",
    "cleaned_df_texts= cleaned_df_texts.to_frame()\n",
    "cleaned_df_texts.columns= ['Clean_texts']"
   ]
  },
  {
   "cell_type": "markdown",
   "metadata": {},
   "source": [
    "#### Load Excel file"
   ]
  },
  {
   "cell_type": "code",
   "execution_count": 21,
   "metadata": {},
   "outputs": [
    {
     "name": "stdout",
     "output_type": "stream",
     "text": [
      "   Unnamed: 0 Label                                               Text\n",
      "0           1  econ  Τροπολογία η οποία θα προβλέπει την επιτάχυνση...\n",
      "1           2  econ  Στόχος της κυβέρνησης είναι να επιτύχει υψηλότ...\n",
      "2           3  econ  Περισσότερες από 4.000 επιχειρήσεις έχουν ήδη ...\n",
      "3           4  econ  «Το 40% των εργαζομένων που εργάζεται υπερωρια...\n",
      "4           5  econ  Ταμειακά διαθέσιμα μόλις για ένα μήνα έχει η μ...\n"
     ]
    }
   ],
   "source": [
    "#open excel\n",
    "df_excel = pd.read_excel(\"C:\\\\Users\\\\ntina\\\\Desktop\\\\stuff\\\\alltexts.xlsx\")\n",
    "print(df_excel.head())"
   ]
  },
  {
   "cell_type": "code",
   "execution_count": 22,
   "metadata": {},
   "outputs": [],
   "source": [
    "# convert dataframe of the cleaned texts to a list and append it to our dataframe\n",
    "cleaned_df_texts= cleaned_df_texts.Clean_texts.tolist()\n",
    "df_excel['Clean_texts'] = cleaned_df_texts"
   ]
  },
  {
   "cell_type": "code",
   "execution_count": 23,
   "metadata": {},
   "outputs": [],
   "source": [
    "#remove the column of the raw texts\n",
    "df_excel = df_excel.drop([\"Text\"], axis =1)"
   ]
  },
  {
   "cell_type": "code",
   "execution_count": 24,
   "metadata": {},
   "outputs": [],
   "source": [
    "# export dataframe to excel file\n",
    "df_excel.to_excel(r\"C:\\\\Users\\\\ntina\\\\Desktop\\\\stuff\\\\data.xlsx\", index = False)"
   ]
  },
  {
   "cell_type": "markdown",
   "metadata": {},
   "source": [
    "#### Vectorization using TF-IDF"
   ]
  },
  {
   "cell_type": "code",
   "execution_count": 41,
   "metadata": {},
   "outputs": [],
   "source": [
    "from sklearn import preprocessing\n",
    "le = preprocessing.LabelEncoder()"
   ]
  },
  {
   "cell_type": "code",
   "execution_count": 42,
   "metadata": {},
   "outputs": [
    {
     "data": {
      "text/plain": [
       "array([0, 0, 0, 0, 0, 0, 0, 0, 0, 0, 0, 0, 0, 0, 0, 0, 0, 0, 0, 0, 0, 0,\n",
       "       0, 0, 0, 0, 0, 0, 0, 0, 1, 1, 1, 1, 1, 1, 1, 1, 1, 1, 1, 1, 1, 1,\n",
       "       1, 1, 1, 1, 1, 1, 1, 1, 1, 1, 1, 1, 1, 1, 1, 1, 2, 2, 2, 2, 2, 2,\n",
       "       2, 2, 2, 2, 2, 2, 2, 2, 2, 2, 2, 2, 2, 2, 2, 2, 2, 2, 2, 2, 2, 2,\n",
       "       2, 2])"
      ]
     },
     "execution_count": 42,
     "metadata": {},
     "output_type": "execute_result"
    }
   ],
   "source": [
    "#convert categorical variables (the lables of our texts) to integers\n",
    "le.fit(df_excel[\"Label\"])\n",
    "list(le.classes_)\n",
    "le.transform(df_excel['Label'])"
   ]
  },
  {
   "cell_type": "code",
   "execution_count": null,
   "metadata": {},
   "outputs": [],
   "source": []
  },
  {
   "cell_type": "code",
   "execution_count": 43,
   "metadata": {},
   "outputs": [],
   "source": [
    "# the frequency of each word in the corpus, ignore terms that are contained in more that 70% of the corpus\n",
    "tfidf_vec = TfidfVectorizer(max_df=0.7)\n",
    "X = tfidf_vec.fit_transform(df_excel[\"Clean_texts\"])\n",
    "\n",
    "#print(X.shape)\n",
    "#print(tfidf_vec.get_feature_names())"
   ]
  },
  {
   "cell_type": "code",
   "execution_count": 44,
   "metadata": {},
   "outputs": [
    {
     "name": "stdout",
     "output_type": "stream",
     "text": [
      "   0     1     2     3     4     5     6     7     8     9     ...  8928  \\\n",
      "0   0.0   0.0   0.0   0.0   0.0   0.0   0.0   0.0   0.0   0.0  ...   0.0   \n",
      "1   0.0   0.0   0.0   0.0   0.0   0.0   0.0   0.0   0.0   0.0  ...   0.0   \n",
      "2   0.0   0.0   0.0   0.0   0.0   0.0   0.0   0.0   0.0   0.0  ...   0.0   \n",
      "3   0.0   0.0   0.0   0.0   0.0   0.0   0.0   0.0   0.0   0.0  ...   0.0   \n",
      "4   0.0   0.0   0.0   0.0   0.0   0.0   0.0   0.0   0.0   0.0  ...   0.0   \n",
      "\n",
      "      8929  8930  8931      8932      8933  8934  8935  8936  8937  \n",
      "0  0.00000   0.0   0.0  0.000000  0.000000   0.0   0.0   0.0   0.0  \n",
      "1  0.00000   0.0   0.0  0.000000  0.000000   0.0   0.0   0.0   0.0  \n",
      "2  0.05318   0.0   0.0  0.000000  0.000000   0.0   0.0   0.0   0.0  \n",
      "3  0.00000   0.0   0.0  0.000000  0.054215   0.0   0.0   0.0   0.0  \n",
      "4  0.00000   0.0   0.0  0.037159  0.000000   0.0   0.0   0.0   0.0  \n",
      "\n",
      "[5 rows x 8938 columns]\n"
     ]
    }
   ],
   "source": [
    "# we create a dataframe with all 9041 features\n",
    "X_df = pd.DataFrame(X.toarray())\n",
    "print(X_df.head())"
   ]
  },
  {
   "cell_type": "markdown",
   "metadata": {},
   "source": [
    "#### Split into train/test"
   ]
  },
  {
   "cell_type": "code",
   "execution_count": 47,
   "metadata": {},
   "outputs": [],
   "source": [
    "# splitting into train and test set\n",
    "X_train, X_test, y_train, y_test = train_test_split(X_df,df_excel['Label'], test_size = 0.20, random_state= 1)"
   ]
  },
  {
   "cell_type": "markdown",
   "metadata": {},
   "source": [
    "#### SVM classifier"
   ]
  },
  {
   "cell_type": "code",
   "execution_count": 48,
   "metadata": {},
   "outputs": [],
   "source": [
    "# instantiating svm classifier\n",
    "classifier = svm.SVC(kernel='linear', C=1)"
   ]
  },
  {
   "cell_type": "code",
   "execution_count": 49,
   "metadata": {},
   "outputs": [
    {
     "name": "stdout",
     "output_type": "stream",
     "text": [
      "['politics' 'sports' 'politics' 'politics' 'sports' 'sports' 'sports'\n",
      " 'politics' 'politics' 'politics' 'politics' 'politics' 'sports' 'econ'\n",
      " 'politics' 'sports' 'econ' 'econ']\n"
     ]
    },
    {
     "data": {
      "text/plain": [
       "1.0"
      ]
     },
     "execution_count": 49,
     "metadata": {},
     "output_type": "execute_result"
    }
   ],
   "source": [
    "# fit the model with the training set\n",
    "classifier.fit(X_train, y_train)\n",
    "\n",
    "\n",
    "#predicted values\n",
    "predictions =classifier.predict(X_test)\n",
    "#print(predictions)\n",
    "\n",
    "\n",
    "#test model's accuracy\n",
    "classifier.score(X_test, y_test)"
   ]
  },
  {
   "cell_type": "code",
   "execution_count": 50,
   "metadata": {},
   "outputs": [
    {
     "name": "stdout",
     "output_type": "stream",
     "text": [
      "[[3 0 0]\n",
      " [0 9 0]\n",
      " [0 0 6]]\n"
     ]
    }
   ],
   "source": [
    "cm = confusion_matrix(y_test, predictions)\n",
    "print(cm)"
   ]
  },
  {
   "cell_type": "code",
   "execution_count": 34,
   "metadata": {},
   "outputs": [
    {
     "name": "stdout",
     "output_type": "stream",
     "text": [
      "Precision: 1.0 Recall: 1.0 F_score: 1.0\n"
     ]
    }
   ],
   "source": [
    "#evaluation of precision,recall, fscore for svm classifier\n",
    "precision,recall, f_score, train_support = score(y_test, predictions, average = \"macro\")\n",
    "print(\"Precision:\", round(precision,3), \"Recall:\", round(recall,3), \"F_score:\", round(f_score,3))"
   ]
  },
  {
   "cell_type": "code",
   "execution_count": 52,
   "metadata": {},
   "outputs": [
    {
     "name": "stderr",
     "output_type": "stream",
     "text": [
      "C:\\Users\\ntina\\anaconda3\\lib\\site-packages\\sklearn\\utils\\deprecation.py:87: FutureWarning: Function plot_confusion_matrix is deprecated; Function `plot_confusion_matrix` is deprecated in 1.0 and will be removed in 1.2. Use one of the class methods: ConfusionMatrixDisplay.from_predictions or ConfusionMatrixDisplay.from_estimator.\n",
      "  warnings.warn(msg, category=FutureWarning)\n"
     ]
    },
    {
     "data": {
      "image/png": "[encoded data removed]",
      "text/plain": [
       "<Figure size 432x288 with 2 Axes>"
      ]
     },
     "metadata": {
      "needs_background": "light"
     },
     "output_type": "display_data"
    }
   ],
   "source": [
    "#plot the confusion matrix\n",
    "plot_confusion_matrix(classifier, X_test, y_test)  \n",
    "plt.show()"
   ]
  },
  {
   "cell_type": "code",
   "execution_count": null,
   "metadata": {},
   "outputs": [],
   "source": []
  }
 ],
 "metadata": {
  "kernelspec": {
   "display_name": "Python 3 (ipykernel)",
   "language": "python",
   "name": "python3"
  },
  "language_info": {
   "codemirror_mode": {
    "name": "ipython",
    "version": 3
   },
   "file_extension": ".py",
   "mimetype": "text/x-python",
   "name": "python",
   "nbconvert_exporter": "python",
   "pygments_lexer": "ipython3",
   "version": "3.8.0"
  }
 },
 "nbformat": 4,
 "nbformat_minor": 4
}
